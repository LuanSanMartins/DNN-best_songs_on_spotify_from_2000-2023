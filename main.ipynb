{
 "cells": [
  {
   "cell_type": "markdown",
   "metadata": {},
   "source": [
    "# **Trabalho 3: Aula Assíncrona 22**"
   ]
  },
  {
   "cell_type": "markdown",
   "metadata": {},
   "source": [
    "**Nome:** Luan Carlos Martins dos Santos, 23022464\n",
    "\n",
    "**Nome:** Luciano Augusto Campagnoli da Silva, 23022469"
   ]
  },
  {
   "cell_type": "markdown",
   "metadata": {
    "id": "InIcrKmkQpiH"
   },
   "source": [
    "1. Faça a importação do conjunto de dados a partir do dataset fornecido.\n",
    "2. Importe as bibliotecas necessárias: pandas, numpy, torch, torchvision, etc."
   ]
  },
  {
   "cell_type": "code",
   "execution_count": 1,
   "metadata": {
    "id": "iu83OsMMPkfM"
   },
   "outputs": [],
   "source": [
    "# Importar as Bibliotecas\n",
    "from os import getcwd, sep\n",
    "import torch\n",
    "import torch.nn as nn\n",
    "import torch.optim as optim\n",
    "from torch.utils.data import DataLoader, Dataset, random_split\n",
    "import numpy as np\n",
    "import pandas as pd\n",
    "from sklearn.metrics import accuracy_score, precision_score, recall_score, classification_report\n",
    "import warnings\n",
    "import matplotlib.pyplot as plt"
   ]
  },
  {
   "cell_type": "code",
   "execution_count": 2,
   "metadata": {},
   "outputs": [],
   "source": [
    "# Comando para ignorar as mensagens de avisos\n",
    "warnings.filterwarnings('ignore')"
   ]
  },
  {
   "cell_type": "markdown",
   "metadata": {
    "id": "xn4g3yveU0YS"
   },
   "source": [
    "3. Carregue o conjunto de dados usando a biblioteca Pandas."
   ]
  },
  {
   "cell_type": "code",
   "execution_count": 3,
   "metadata": {
    "id": "3cv0yJT9U4ny"
   },
   "outputs": [
    {
     "data": {
      "text/html": [
       "<div>\n",
       "<style scoped>\n",
       "    .dataframe tbody tr th:only-of-type {\n",
       "        vertical-align: middle;\n",
       "    }\n",
       "\n",
       "    .dataframe tbody tr th {\n",
       "        vertical-align: top;\n",
       "    }\n",
       "\n",
       "    .dataframe thead th {\n",
       "        text-align: right;\n",
       "    }\n",
       "</style>\n",
       "<table border=\"1\" class=\"dataframe\">\n",
       "  <thead>\n",
       "    <tr style=\"text-align: right;\">\n",
       "      <th></th>\n",
       "      <th>title</th>\n",
       "      <th>artist</th>\n",
       "      <th>top genre</th>\n",
       "      <th>year</th>\n",
       "      <th>bpm</th>\n",
       "      <th>energy</th>\n",
       "      <th>danceability</th>\n",
       "      <th>dB</th>\n",
       "      <th>liveness</th>\n",
       "      <th>valence</th>\n",
       "      <th>duration</th>\n",
       "      <th>acousticness</th>\n",
       "      <th>speechiness</th>\n",
       "      <th>popularity</th>\n",
       "    </tr>\n",
       "  </thead>\n",
       "  <tbody>\n",
       "    <tr>\n",
       "      <th>0</th>\n",
       "      <td>Flowers</td>\n",
       "      <td>Miley Cyrus</td>\n",
       "      <td>pop</td>\n",
       "      <td>2023</td>\n",
       "      <td>118</td>\n",
       "      <td>68</td>\n",
       "      <td>71</td>\n",
       "      <td>-4</td>\n",
       "      <td>3</td>\n",
       "      <td>65</td>\n",
       "      <td>200</td>\n",
       "      <td>6</td>\n",
       "      <td>7</td>\n",
       "      <td>98</td>\n",
       "    </tr>\n",
       "    <tr>\n",
       "      <th>1</th>\n",
       "      <td>Cupid - Twin Ver.</td>\n",
       "      <td>FIFTY FIFTY</td>\n",
       "      <td>k-pop girl group</td>\n",
       "      <td>2023</td>\n",
       "      <td>120</td>\n",
       "      <td>59</td>\n",
       "      <td>78</td>\n",
       "      <td>-8</td>\n",
       "      <td>35</td>\n",
       "      <td>73</td>\n",
       "      <td>174</td>\n",
       "      <td>44</td>\n",
       "      <td>3</td>\n",
       "      <td>97</td>\n",
       "    </tr>\n",
       "    <tr>\n",
       "      <th>2</th>\n",
       "      <td>BESO</td>\n",
       "      <td>ROSALÍA</td>\n",
       "      <td>pop</td>\n",
       "      <td>2023</td>\n",
       "      <td>95</td>\n",
       "      <td>64</td>\n",
       "      <td>77</td>\n",
       "      <td>-7</td>\n",
       "      <td>17</td>\n",
       "      <td>53</td>\n",
       "      <td>195</td>\n",
       "      <td>74</td>\n",
       "      <td>14</td>\n",
       "      <td>96</td>\n",
       "    </tr>\n",
       "    <tr>\n",
       "      <th>3</th>\n",
       "      <td>Boy's a liar Pt. 2</td>\n",
       "      <td>PinkPantheress</td>\n",
       "      <td>bronx drill</td>\n",
       "      <td>2023</td>\n",
       "      <td>133</td>\n",
       "      <td>81</td>\n",
       "      <td>70</td>\n",
       "      <td>-8</td>\n",
       "      <td>25</td>\n",
       "      <td>86</td>\n",
       "      <td>131</td>\n",
       "      <td>25</td>\n",
       "      <td>5</td>\n",
       "      <td>96</td>\n",
       "    </tr>\n",
       "    <tr>\n",
       "      <th>4</th>\n",
       "      <td>Creepin' (with The Weeknd &amp; 21 Savage)</td>\n",
       "      <td>Metro Boomin</td>\n",
       "      <td>rap</td>\n",
       "      <td>2022</td>\n",
       "      <td>98</td>\n",
       "      <td>62</td>\n",
       "      <td>72</td>\n",
       "      <td>-6</td>\n",
       "      <td>8</td>\n",
       "      <td>17</td>\n",
       "      <td>222</td>\n",
       "      <td>42</td>\n",
       "      <td>5</td>\n",
       "      <td>96</td>\n",
       "    </tr>\n",
       "    <tr>\n",
       "      <th>...</th>\n",
       "      <td>...</td>\n",
       "      <td>...</td>\n",
       "      <td>...</td>\n",
       "      <td>...</td>\n",
       "      <td>...</td>\n",
       "      <td>...</td>\n",
       "      <td>...</td>\n",
       "      <td>...</td>\n",
       "      <td>...</td>\n",
       "      <td>...</td>\n",
       "      <td>...</td>\n",
       "      <td>...</td>\n",
       "      <td>...</td>\n",
       "      <td>...</td>\n",
       "    </tr>\n",
       "    <tr>\n",
       "      <th>2380</th>\n",
       "      <td>Southbound</td>\n",
       "      <td>Beach Blvd</td>\n",
       "      <td>rock</td>\n",
       "      <td>2023</td>\n",
       "      <td>140</td>\n",
       "      <td>88</td>\n",
       "      <td>60</td>\n",
       "      <td>-6</td>\n",
       "      <td>10</td>\n",
       "      <td>49</td>\n",
       "      <td>228</td>\n",
       "      <td>19</td>\n",
       "      <td>4</td>\n",
       "      <td>21</td>\n",
       "    </tr>\n",
       "    <tr>\n",
       "      <th>2381</th>\n",
       "      <td>Dance with Somebody - Radio Version</td>\n",
       "      <td>Mando Diao</td>\n",
       "      <td>dalarna indie</td>\n",
       "      <td>2009</td>\n",
       "      <td>150</td>\n",
       "      <td>90</td>\n",
       "      <td>55</td>\n",
       "      <td>-4</td>\n",
       "      <td>36</td>\n",
       "      <td>51</td>\n",
       "      <td>241</td>\n",
       "      <td>0</td>\n",
       "      <td>9</td>\n",
       "      <td>16</td>\n",
       "    </tr>\n",
       "    <tr>\n",
       "      <th>2382</th>\n",
       "      <td>Flow</td>\n",
       "      <td>Desire Machines</td>\n",
       "      <td>indie</td>\n",
       "      <td>2022</td>\n",
       "      <td>100</td>\n",
       "      <td>87</td>\n",
       "      <td>60</td>\n",
       "      <td>-7</td>\n",
       "      <td>9</td>\n",
       "      <td>74</td>\n",
       "      <td>255</td>\n",
       "      <td>0</td>\n",
       "      <td>5</td>\n",
       "      <td>15</td>\n",
       "    </tr>\n",
       "    <tr>\n",
       "      <th>2383</th>\n",
       "      <td>Scared of the Dark</td>\n",
       "      <td>Everything Brighter</td>\n",
       "      <td>pop</td>\n",
       "      <td>2023</td>\n",
       "      <td>120</td>\n",
       "      <td>80</td>\n",
       "      <td>65</td>\n",
       "      <td>-6</td>\n",
       "      <td>7</td>\n",
       "      <td>61</td>\n",
       "      <td>179</td>\n",
       "      <td>0</td>\n",
       "      <td>6</td>\n",
       "      <td>11</td>\n",
       "    </tr>\n",
       "    <tr>\n",
       "      <th>2384</th>\n",
       "      <td>Sorry</td>\n",
       "      <td>LEADR</td>\n",
       "      <td>tropical house</td>\n",
       "      <td>2023</td>\n",
       "      <td>95</td>\n",
       "      <td>64</td>\n",
       "      <td>66</td>\n",
       "      <td>-10</td>\n",
       "      <td>19</td>\n",
       "      <td>40</td>\n",
       "      <td>174</td>\n",
       "      <td>0</td>\n",
       "      <td>6</td>\n",
       "      <td>5</td>\n",
       "    </tr>\n",
       "  </tbody>\n",
       "</table>\n",
       "<p>2385 rows × 14 columns</p>\n",
       "</div>"
      ],
      "text/plain": [
       "                                       title               artist  \\\n",
       "0                                    Flowers          Miley Cyrus   \n",
       "1                          Cupid - Twin Ver.          FIFTY FIFTY   \n",
       "2                                       BESO              ROSALÍA   \n",
       "3                         Boy's a liar Pt. 2       PinkPantheress   \n",
       "4     Creepin' (with The Weeknd & 21 Savage)         Metro Boomin   \n",
       "...                                      ...                  ...   \n",
       "2380                              Southbound           Beach Blvd   \n",
       "2381     Dance with Somebody - Radio Version           Mando Diao   \n",
       "2382                                    Flow      Desire Machines   \n",
       "2383                      Scared of the Dark  Everything Brighter   \n",
       "2384                                   Sorry                LEADR   \n",
       "\n",
       "             top genre  year  bpm  energy  danceability   dB  liveness  \\\n",
       "0                  pop  2023  118      68             71  -4         3   \n",
       "1     k-pop girl group  2023  120      59             78  -8        35   \n",
       "2                  pop  2023   95      64             77  -7        17   \n",
       "3          bronx drill  2023  133      81             70  -8        25   \n",
       "4                  rap  2022   98      62             72  -6         8   \n",
       "...                ...   ...  ...     ...            ...  ..       ...   \n",
       "2380              rock  2023  140      88             60  -6        10   \n",
       "2381     dalarna indie  2009  150      90             55  -4        36   \n",
       "2382             indie  2022  100      87             60  -7         9   \n",
       "2383               pop  2023  120      80             65  -6         7   \n",
       "2384    tropical house  2023   95      64             66 -10        19   \n",
       "\n",
       "      valence  duration  acousticness  speechiness   popularity  \n",
       "0          65       200             6             7          98  \n",
       "1          73       174            44             3          97  \n",
       "2          53       195            74            14          96  \n",
       "3          86       131            25             5          96  \n",
       "4          17       222            42             5          96  \n",
       "...       ...       ...           ...           ...         ...  \n",
       "2380       49       228            19             4          21  \n",
       "2381       51       241             0             9          16  \n",
       "2382       74       255             0             5          15  \n",
       "2383       61       179             0             6          11  \n",
       "2384       40       174             0             6           5  \n",
       "\n",
       "[2385 rows x 14 columns]"
      ]
     },
     "execution_count": 3,
     "metadata": {},
     "output_type": "execute_result"
    }
   ],
   "source": [
    "# Carregar o dataset\n",
    "df0 = pd.read_csv(getcwd()+sep+\"Best Songs on Spotify from 2000-2023-1.csv\", delimiter=';')\n",
    "# Criar uma cópia do dataset\n",
    "df = df0.copy()\n",
    "df0"
   ]
  },
  {
   "cell_type": "markdown",
   "metadata": {
    "id": "BmLkIIcycT5R"
   },
   "source": [
    "4. Realize o pré-processamento necessário no conjunto de dados, incluindo a categorização dos valores da coluna \"popularity\" em três classes (0, 1 e 2) usando a função pd.cut"
   ]
  },
  {
   "cell_type": "code",
   "execution_count": 4,
   "metadata": {
    "colab": {
     "base_uri": "https://localhost:8080/",
     "height": 537
    },
    "id": "_V9XA4fLcVog",
    "outputId": "2784076a-b5e0-458e-c4e8-529e5ebb5bb5"
   },
   "outputs": [
    {
     "data": {
      "text/plain": [
       "(                                       title               artist  \\\n",
       " 0                                    Flowers          Miley Cyrus   \n",
       " 1                          Cupid - Twin Ver.          FIFTY FIFTY   \n",
       " 2                                       BESO              ROSALÍA   \n",
       " 3                         Boy's a liar Pt. 2       PinkPantheress   \n",
       " 4     Creepin' (with The Weeknd & 21 Savage)         Metro Boomin   \n",
       " ...                                      ...                  ...   \n",
       " 2380                              Southbound           Beach Blvd   \n",
       " 2381     Dance with Somebody - Radio Version           Mando Diao   \n",
       " 2382                                    Flow      Desire Machines   \n",
       " 2383                      Scared of the Dark  Everything Brighter   \n",
       " 2384                                   Sorry                LEADR   \n",
       " \n",
       "              top genre  year  bpm  energy  danceability   dB  liveness  \\\n",
       " 0                  pop  2023  118      68             71  -4         3   \n",
       " 1     k-pop girl group  2023  120      59             78  -8        35   \n",
       " 2                  pop  2023   95      64             77  -7        17   \n",
       " 3          bronx drill  2023  133      81             70  -8        25   \n",
       " 4                  rap  2022   98      62             72  -6         8   \n",
       " ...                ...   ...  ...     ...            ...  ..       ...   \n",
       " 2380              rock  2023  140      88             60  -6        10   \n",
       " 2381     dalarna indie  2009  150      90             55  -4        36   \n",
       " 2382             indie  2022  100      87             60  -7         9   \n",
       " 2383               pop  2023  120      80             65  -6         7   \n",
       " 2384    tropical house  2023   95      64             66 -10        19   \n",
       " \n",
       "       valence  duration  acousticness  speechiness  popularity  \n",
       " 0          65       200             6             7          2  \n",
       " 1          73       174            44             3          2  \n",
       " 2          53       195            74            14          2  \n",
       " 3          86       131            25             5          2  \n",
       " 4          17       222            42             5          2  \n",
       " ...       ...       ...           ...           ...        ...  \n",
       " 2380       49       228            19             4          0  \n",
       " 2381       51       241             0             9          0  \n",
       " 2382       74       255             0             5          0  \n",
       " 2383       61       179             0             6          0  \n",
       " 2384       40       174             0             6          0  \n",
       " \n",
       " [2385 rows x 14 columns],\n",
       " 1    58.448637\n",
       " 2    36.477987\n",
       " 0     5.073375\n",
       " Name: popularity, dtype: float64)"
      ]
     },
     "execution_count": 4,
     "metadata": {},
     "output_type": "execute_result"
    }
   ],
   "source": [
    "# Categorizar os valores da coluna \"popularity\" em três classes (0, 1 e 2)\n",
    "df[\"popularity\"]=pd.cut(df[\"popularity\"], bins = [0,50,75,100], labels = [0,1,2], include_lowest =True)\n",
    "counts = df[\"popularity\"].value_counts(dropna = False,normalize = True) * 100\n",
    "\n",
    "df,counts"
   ]
  },
  {
   "cell_type": "markdown",
   "metadata": {
    "id": "R-xeED5ccntQ"
   },
   "source": [
    "5. Realize a codificação one-hot das colunas \"artist\" e \"top genre\" usando a função onehot_encode."
   ]
  },
  {
   "cell_type": "code",
   "execution_count": 5,
   "metadata": {
    "colab": {
     "base_uri": "https://localhost:8080/",
     "height": 679
    },
    "id": "zvIhwHu759cC",
    "outputId": "35bf35f3-7940-4d3c-f28e-91985071e938"
   },
   "outputs": [
    {
     "data": {
      "text/html": [
       "<div>\n",
       "<style scoped>\n",
       "    .dataframe tbody tr th:only-of-type {\n",
       "        vertical-align: middle;\n",
       "    }\n",
       "\n",
       "    .dataframe tbody tr th {\n",
       "        vertical-align: top;\n",
       "    }\n",
       "\n",
       "    .dataframe thead th {\n",
       "        text-align: right;\n",
       "    }\n",
       "</style>\n",
       "<table border=\"1\" class=\"dataframe\">\n",
       "  <thead>\n",
       "    <tr style=\"text-align: right;\">\n",
       "      <th></th>\n",
       "      <th>title</th>\n",
       "      <th>year</th>\n",
       "      <th>bpm</th>\n",
       "      <th>energy</th>\n",
       "      <th>danceability</th>\n",
       "      <th>dB</th>\n",
       "      <th>liveness</th>\n",
       "      <th>valence</th>\n",
       "      <th>duration</th>\n",
       "      <th>acousticness</th>\n",
       "      <th>...</th>\n",
       "      <th>g_uk alternative pop</th>\n",
       "      <th>g_uk contemporary r&amp;b</th>\n",
       "      <th>g_uk dance</th>\n",
       "      <th>g_uk garage</th>\n",
       "      <th>g_uk hip hop</th>\n",
       "      <th>g_uk pop</th>\n",
       "      <th>g_viral pop</th>\n",
       "      <th>g_viral rap</th>\n",
       "      <th>g_viral trap</th>\n",
       "      <th>g_vocal house</th>\n",
       "    </tr>\n",
       "  </thead>\n",
       "  <tbody>\n",
       "    <tr>\n",
       "      <th>0</th>\n",
       "      <td>Flowers</td>\n",
       "      <td>2023</td>\n",
       "      <td>118</td>\n",
       "      <td>68</td>\n",
       "      <td>71</td>\n",
       "      <td>-4</td>\n",
       "      <td>3</td>\n",
       "      <td>65</td>\n",
       "      <td>200</td>\n",
       "      <td>6</td>\n",
       "      <td>...</td>\n",
       "      <td>0</td>\n",
       "      <td>0</td>\n",
       "      <td>0</td>\n",
       "      <td>0</td>\n",
       "      <td>0</td>\n",
       "      <td>0</td>\n",
       "      <td>0</td>\n",
       "      <td>0</td>\n",
       "      <td>0</td>\n",
       "      <td>0</td>\n",
       "    </tr>\n",
       "    <tr>\n",
       "      <th>1</th>\n",
       "      <td>Cupid - Twin Ver.</td>\n",
       "      <td>2023</td>\n",
       "      <td>120</td>\n",
       "      <td>59</td>\n",
       "      <td>78</td>\n",
       "      <td>-8</td>\n",
       "      <td>35</td>\n",
       "      <td>73</td>\n",
       "      <td>174</td>\n",
       "      <td>44</td>\n",
       "      <td>...</td>\n",
       "      <td>0</td>\n",
       "      <td>0</td>\n",
       "      <td>0</td>\n",
       "      <td>0</td>\n",
       "      <td>0</td>\n",
       "      <td>0</td>\n",
       "      <td>0</td>\n",
       "      <td>0</td>\n",
       "      <td>0</td>\n",
       "      <td>0</td>\n",
       "    </tr>\n",
       "    <tr>\n",
       "      <th>2</th>\n",
       "      <td>BESO</td>\n",
       "      <td>2023</td>\n",
       "      <td>95</td>\n",
       "      <td>64</td>\n",
       "      <td>77</td>\n",
       "      <td>-7</td>\n",
       "      <td>17</td>\n",
       "      <td>53</td>\n",
       "      <td>195</td>\n",
       "      <td>74</td>\n",
       "      <td>...</td>\n",
       "      <td>0</td>\n",
       "      <td>0</td>\n",
       "      <td>0</td>\n",
       "      <td>0</td>\n",
       "      <td>0</td>\n",
       "      <td>0</td>\n",
       "      <td>0</td>\n",
       "      <td>0</td>\n",
       "      <td>0</td>\n",
       "      <td>0</td>\n",
       "    </tr>\n",
       "    <tr>\n",
       "      <th>3</th>\n",
       "      <td>Boy's a liar Pt. 2</td>\n",
       "      <td>2023</td>\n",
       "      <td>133</td>\n",
       "      <td>81</td>\n",
       "      <td>70</td>\n",
       "      <td>-8</td>\n",
       "      <td>25</td>\n",
       "      <td>86</td>\n",
       "      <td>131</td>\n",
       "      <td>25</td>\n",
       "      <td>...</td>\n",
       "      <td>0</td>\n",
       "      <td>0</td>\n",
       "      <td>0</td>\n",
       "      <td>0</td>\n",
       "      <td>0</td>\n",
       "      <td>0</td>\n",
       "      <td>0</td>\n",
       "      <td>0</td>\n",
       "      <td>0</td>\n",
       "      <td>0</td>\n",
       "    </tr>\n",
       "    <tr>\n",
       "      <th>4</th>\n",
       "      <td>Creepin' (with The Weeknd &amp; 21 Savage)</td>\n",
       "      <td>2022</td>\n",
       "      <td>98</td>\n",
       "      <td>62</td>\n",
       "      <td>72</td>\n",
       "      <td>-6</td>\n",
       "      <td>8</td>\n",
       "      <td>17</td>\n",
       "      <td>222</td>\n",
       "      <td>42</td>\n",
       "      <td>...</td>\n",
       "      <td>0</td>\n",
       "      <td>0</td>\n",
       "      <td>0</td>\n",
       "      <td>0</td>\n",
       "      <td>0</td>\n",
       "      <td>0</td>\n",
       "      <td>0</td>\n",
       "      <td>0</td>\n",
       "      <td>0</td>\n",
       "      <td>0</td>\n",
       "    </tr>\n",
       "    <tr>\n",
       "      <th>...</th>\n",
       "      <td>...</td>\n",
       "      <td>...</td>\n",
       "      <td>...</td>\n",
       "      <td>...</td>\n",
       "      <td>...</td>\n",
       "      <td>...</td>\n",
       "      <td>...</td>\n",
       "      <td>...</td>\n",
       "      <td>...</td>\n",
       "      <td>...</td>\n",
       "      <td>...</td>\n",
       "      <td>...</td>\n",
       "      <td>...</td>\n",
       "      <td>...</td>\n",
       "      <td>...</td>\n",
       "      <td>...</td>\n",
       "      <td>...</td>\n",
       "      <td>...</td>\n",
       "      <td>...</td>\n",
       "      <td>...</td>\n",
       "      <td>...</td>\n",
       "    </tr>\n",
       "    <tr>\n",
       "      <th>2380</th>\n",
       "      <td>Southbound</td>\n",
       "      <td>2023</td>\n",
       "      <td>140</td>\n",
       "      <td>88</td>\n",
       "      <td>60</td>\n",
       "      <td>-6</td>\n",
       "      <td>10</td>\n",
       "      <td>49</td>\n",
       "      <td>228</td>\n",
       "      <td>19</td>\n",
       "      <td>...</td>\n",
       "      <td>0</td>\n",
       "      <td>0</td>\n",
       "      <td>0</td>\n",
       "      <td>0</td>\n",
       "      <td>0</td>\n",
       "      <td>0</td>\n",
       "      <td>0</td>\n",
       "      <td>0</td>\n",
       "      <td>0</td>\n",
       "      <td>0</td>\n",
       "    </tr>\n",
       "    <tr>\n",
       "      <th>2381</th>\n",
       "      <td>Dance with Somebody - Radio Version</td>\n",
       "      <td>2009</td>\n",
       "      <td>150</td>\n",
       "      <td>90</td>\n",
       "      <td>55</td>\n",
       "      <td>-4</td>\n",
       "      <td>36</td>\n",
       "      <td>51</td>\n",
       "      <td>241</td>\n",
       "      <td>0</td>\n",
       "      <td>...</td>\n",
       "      <td>0</td>\n",
       "      <td>0</td>\n",
       "      <td>0</td>\n",
       "      <td>0</td>\n",
       "      <td>0</td>\n",
       "      <td>0</td>\n",
       "      <td>0</td>\n",
       "      <td>0</td>\n",
       "      <td>0</td>\n",
       "      <td>0</td>\n",
       "    </tr>\n",
       "    <tr>\n",
       "      <th>2382</th>\n",
       "      <td>Flow</td>\n",
       "      <td>2022</td>\n",
       "      <td>100</td>\n",
       "      <td>87</td>\n",
       "      <td>60</td>\n",
       "      <td>-7</td>\n",
       "      <td>9</td>\n",
       "      <td>74</td>\n",
       "      <td>255</td>\n",
       "      <td>0</td>\n",
       "      <td>...</td>\n",
       "      <td>0</td>\n",
       "      <td>0</td>\n",
       "      <td>0</td>\n",
       "      <td>0</td>\n",
       "      <td>0</td>\n",
       "      <td>0</td>\n",
       "      <td>0</td>\n",
       "      <td>0</td>\n",
       "      <td>0</td>\n",
       "      <td>0</td>\n",
       "    </tr>\n",
       "    <tr>\n",
       "      <th>2383</th>\n",
       "      <td>Scared of the Dark</td>\n",
       "      <td>2023</td>\n",
       "      <td>120</td>\n",
       "      <td>80</td>\n",
       "      <td>65</td>\n",
       "      <td>-6</td>\n",
       "      <td>7</td>\n",
       "      <td>61</td>\n",
       "      <td>179</td>\n",
       "      <td>0</td>\n",
       "      <td>...</td>\n",
       "      <td>0</td>\n",
       "      <td>0</td>\n",
       "      <td>0</td>\n",
       "      <td>0</td>\n",
       "      <td>0</td>\n",
       "      <td>0</td>\n",
       "      <td>0</td>\n",
       "      <td>0</td>\n",
       "      <td>0</td>\n",
       "      <td>0</td>\n",
       "    </tr>\n",
       "    <tr>\n",
       "      <th>2384</th>\n",
       "      <td>Sorry</td>\n",
       "      <td>2023</td>\n",
       "      <td>95</td>\n",
       "      <td>64</td>\n",
       "      <td>66</td>\n",
       "      <td>-10</td>\n",
       "      <td>19</td>\n",
       "      <td>40</td>\n",
       "      <td>174</td>\n",
       "      <td>0</td>\n",
       "      <td>...</td>\n",
       "      <td>0</td>\n",
       "      <td>0</td>\n",
       "      <td>0</td>\n",
       "      <td>0</td>\n",
       "      <td>0</td>\n",
       "      <td>0</td>\n",
       "      <td>0</td>\n",
       "      <td>0</td>\n",
       "      <td>0</td>\n",
       "      <td>0</td>\n",
       "    </tr>\n",
       "  </tbody>\n",
       "</table>\n",
       "<p>2385 rows × 1292 columns</p>\n",
       "</div>"
      ],
      "text/plain": [
       "                                       title  year  bpm  energy  \\\n",
       "0                                    Flowers  2023  118      68   \n",
       "1                          Cupid - Twin Ver.  2023  120      59   \n",
       "2                                       BESO  2023   95      64   \n",
       "3                         Boy's a liar Pt. 2  2023  133      81   \n",
       "4     Creepin' (with The Weeknd & 21 Savage)  2022   98      62   \n",
       "...                                      ...   ...  ...     ...   \n",
       "2380                              Southbound  2023  140      88   \n",
       "2381     Dance with Somebody - Radio Version  2009  150      90   \n",
       "2382                                    Flow  2022  100      87   \n",
       "2383                      Scared of the Dark  2023  120      80   \n",
       "2384                                   Sorry  2023   95      64   \n",
       "\n",
       "      danceability   dB  liveness  valence  duration  acousticness  ...  \\\n",
       "0                71  -4         3       65       200             6  ...   \n",
       "1                78  -8        35       73       174            44  ...   \n",
       "2                77  -7        17       53       195            74  ...   \n",
       "3                70  -8        25       86       131            25  ...   \n",
       "4                72  -6         8       17       222            42  ...   \n",
       "...             ...  ..       ...      ...       ...           ...  ...   \n",
       "2380             60  -6        10       49       228            19  ...   \n",
       "2381             55  -4        36       51       241             0  ...   \n",
       "2382             60  -7         9       74       255             0  ...   \n",
       "2383             65  -6         7       61       179             0  ...   \n",
       "2384             66 -10        19       40       174             0  ...   \n",
       "\n",
       "      g_uk alternative pop  g_uk contemporary r&b  g_uk dance  g_uk garage  \\\n",
       "0                        0                      0           0            0   \n",
       "1                        0                      0           0            0   \n",
       "2                        0                      0           0            0   \n",
       "3                        0                      0           0            0   \n",
       "4                        0                      0           0            0   \n",
       "...                    ...                    ...         ...          ...   \n",
       "2380                     0                      0           0            0   \n",
       "2381                     0                      0           0            0   \n",
       "2382                     0                      0           0            0   \n",
       "2383                     0                      0           0            0   \n",
       "2384                     0                      0           0            0   \n",
       "\n",
       "      g_uk hip hop  g_uk pop  g_viral pop  g_viral rap  g_viral trap  \\\n",
       "0                0         0            0            0             0   \n",
       "1                0         0            0            0             0   \n",
       "2                0         0            0            0             0   \n",
       "3                0         0            0            0             0   \n",
       "4                0         0            0            0             0   \n",
       "...            ...       ...          ...          ...           ...   \n",
       "2380             0         0            0            0             0   \n",
       "2381             0         0            0            0             0   \n",
       "2382             0         0            0            0             0   \n",
       "2383             0         0            0            0             0   \n",
       "2384             0         0            0            0             0   \n",
       "\n",
       "      g_vocal house  \n",
       "0                 0  \n",
       "1                 0  \n",
       "2                 0  \n",
       "3                 0  \n",
       "4                 0  \n",
       "...             ...  \n",
       "2380              0  \n",
       "2381              0  \n",
       "2382              0  \n",
       "2383              0  \n",
       "2384              0  \n",
       "\n",
       "[2385 rows x 1292 columns]"
      ]
     },
     "execution_count": 5,
     "metadata": {},
     "output_type": "execute_result"
    }
   ],
   "source": [
    "df0 = df0.join(\n",
    "    pd.get_dummies(df0['artist'], prefix = 'a')\n",
    ").drop('artist', axis=1)\n",
    "\n",
    "df0 = df0.join(\n",
    "    pd.get_dummies(df0['top genre'], prefix = 'g')\n",
    ").drop('top genre', axis=1)\n",
    "\n",
    "df0"
   ]
  },
  {
   "cell_type": "markdown",
   "metadata": {
    "id": "AZKR5pkheRWH"
   },
   "source": [
    "6. Separe o conjunto de dados em recursos (X) e rótulos de destino (y). Descarte as colunas irrelevantes para o modelo"
   ]
  },
  {
   "cell_type": "code",
   "execution_count": 6,
   "metadata": {
    "id": "CxE4Ych9fBbI"
   },
   "outputs": [],
   "source": [
    "# Separar os atributos previsores\n",
    "#df0=df0.drop(['title','popularity'], axis=1)\n",
    "df0=df0.drop(['title','year','popularity'], axis=1)\n",
    "X = np.float32(df0.copy())\n",
    "\n",
    "# Separar a Variável alvo\n",
    "Y = np.float32(df.copy().iloc[:,-1])"
   ]
  },
  {
   "cell_type": "markdown",
   "metadata": {
    "id": "_B2mAeQFi-l1"
   },
   "source": [
    "7. Converta os dados para tensores do PyTorch."
   ]
  },
  {
   "cell_type": "code",
   "execution_count": 7,
   "metadata": {
    "id": "9XvUFndqiWjN"
   },
   "outputs": [],
   "source": [
    "# Converter X e Y para tensores do PyTorch\n",
    "Xpy = torch.from_numpy(X)\n",
    "Ypy = torch.from_numpy(Y)"
   ]
  },
  {
   "cell_type": "markdown",
   "metadata": {
    "id": "9LikKZLDfKy4"
   },
   "source": [
    "8. Crie uma classe CTDataset que herda torch.utils.data.Dataset e implemente os métodos init, len e getitem para representar o conjunto de dados."
   ]
  },
  {
   "cell_type": "code",
   "execution_count": 8,
   "metadata": {
    "id": "b8J4gGJ4lQRr"
   },
   "outputs": [],
   "source": [
    "# Criar e declarar a classe CTDataset\n",
    "class CTDataset(Dataset):\n",
    "  def __init__(self, songs, popularity):\n",
    "    self.x = songs\n",
    "    self.y = popularity\n",
    "\n",
    "  def __len__(self):\n",
    "    return self.x.shape[0]\n",
    "  \n",
    "  def __getitem__(self, ix):\n",
    "    return self.x[ix], self.y[ix]\n",
    "\n",
    "# Chamar a classe CTDataset para obter o dataset que será separado em dados de treino, teste, e validação\n",
    "dataset = CTDataset(Xpy, Ypy)"
   ]
  },
  {
   "cell_type": "markdown",
   "metadata": {
    "id": "MHVeRqdtmU6K"
   },
   "source": [
    "9. Divida o conjunto de dados em conjuntos de treinamento, validação e teste usando a função random_split do PyTorch, de acordo com as proporções especificadas."
   ]
  },
  {
   "cell_type": "code",
   "execution_count": 9,
   "metadata": {
    "colab": {
     "base_uri": "https://localhost:8080/"
    },
    "id": "uhCu5OEomXFj",
    "outputId": "4d346d84-04aa-4fb9-f1a2-fd06e1f1b777"
   },
   "outputs": [],
   "source": [
    "# Definir taxas para os conjuntos de dados de treino, validação e testes\n",
    "train_ratio: float = 0.7\n",
    "val_ratio: float = 0.1\n",
    "test_ratio: float = 0.2\n",
    "\n",
    "# Definir o tamanho das amostras dos conjuntos de dados de treino, validação e testes\n",
    "num_samples: int = len(dataset)\n",
    "train_size: int = int(train_ratio * num_samples)\n",
    "val_size: int = int(val_ratio * num_samples)\n",
    "test_size: int= num_samples - train_size - val_size\n",
    "\n",
    "# Definir as bases de dados de treino, de validação, e de testes\n",
    "train_dataset, val_dataset, test_dataset = random_split(dataset, [train_size, val_size, test_size])"
   ]
  },
  {
   "cell_type": "markdown",
   "metadata": {
    "id": "d_HzLQWkp7co"
   },
   "source": [
    "10. Crie carregadores de dados (DataLoader) para cada conjunto, com um tamanho de lote (batch size) adequado."
   ]
  },
  {
   "cell_type": "code",
   "execution_count": 10,
   "metadata": {
    "id": "7DwD-2ZTp-jJ"
   },
   "outputs": [],
   "source": [
    "# Definir valor de batch size\n",
    "batch_size: int = 64\n",
    "\n",
    "# Criar os carregadores de dados (DataLoader) para cada uma das bases de dados de treino, de validação, e de testes\n",
    "train_loader = DataLoader(train_dataset, batch_size=batch_size, shuffle=True)\n",
    "val_loader = DataLoader(val_dataset, batch_size=batch_size, shuffle=False)\n",
    "test_loader = DataLoader(test_dataset, batch_size=batch_size, shuffle=False)"
   ]
  },
  {
   "cell_type": "markdown",
   "metadata": {
    "id": "JcfYK1Gsqy_P"
   },
   "source": [
    "11. Defina a arquitetura da rede neural no PyTorch, incluindo as camadas Linear necessárias."
   ]
  },
  {
   "cell_type": "code",
   "execution_count": 11,
   "metadata": {
    "id": "b0mqHX1UqzO_"
   },
   "outputs": [],
   "source": [
    "# Criar e declarar a classe NeuralNet para criar a arquitetura da Rede Neural\n",
    "class NeuralNet(nn.Module):\n",
    "    def __init__(self):\n",
    "        super(NeuralNet, self).__init__()\n",
    "        self.fc1 = nn.Linear(1289, 640)\n",
    "        #self.fc1 = nn.Linear(1290, 640)\n",
    "        self.fc2 = nn.Linear(640, 320)\n",
    "        self.fc3 = nn.Linear(320, 3)\n",
    "        \n",
    "        \n",
    "    def forward(self, x):\n",
    "        x = self.fc1(x)\n",
    "        x = torch.relu(self.fc2(x))\n",
    "        x = self.fc3(x)\n",
    "        return x\n",
    "\n",
    "# Chamar a classe NeuralNet para obter o modelo de Rede Neural\n",
    "model = NeuralNet()"
   ]
  },
  {
   "cell_type": "markdown",
   "metadata": {
    "id": "h70xDiB1rhJh"
   },
   "source": [
    "12. Defina a função de perda (loss function) como CrossEntropyLoss e o otimizador como Adam."
   ]
  },
  {
   "cell_type": "code",
   "execution_count": 12,
   "metadata": {
    "id": "vjkBW8_RrhuH"
   },
   "outputs": [],
   "source": [
    "# Definir a função de perda\n",
    "criterion = nn.CrossEntropyLoss()\n",
    "\n",
    "# Definir a função de otimização\n",
    "optimizer = optim.Adam(model.parameters(), lr=0.001)"
   ]
  },
  {
   "cell_type": "markdown",
   "metadata": {
    "id": "fINzAojasfEv"
   },
   "source": [
    "13. Mova o modelo para a GPU, se disponível, para acelerar o treinamento. \n",
    "\n",
    "<code style=\"color:red\">Não temos GPU</code>"
   ]
  },
  {
   "cell_type": "markdown",
   "metadata": {
    "id": "nqJIzSmitIx2"
   },
   "source": [
    "14. Execute o treinamento do modelo por um número específico de épocas, calculando a perda média ao longo das iterações de treinamento."
   ]
  },
  {
   "cell_type": "code",
   "execution_count": 13,
   "metadata": {
    "colab": {
     "base_uri": "https://localhost:8080/"
    },
    "id": "0B-jYiGqtJWG",
    "outputId": "c4638e97-e376-425d-d67f-449695cc523c"
   },
   "outputs": [
    {
     "name": "stdout",
     "output_type": "stream",
     "text": [
      "Epoch 1/75, Loss: 9.86\n",
      "Epoch 2/75, Loss: 5.29\n",
      "Epoch 3/75, Loss: 1.10\n",
      "Epoch 4/75, Loss: 1.52\n",
      "Epoch 5/75, Loss: 0.97\n",
      "Epoch 6/75, Loss: 0.86\n",
      "Epoch 7/75, Loss: 1.56\n",
      "Epoch 8/75, Loss: 0.99\n",
      "Epoch 9/75, Loss: 0.86\n",
      "Epoch 10/75, Loss: 0.86\n",
      "Epoch 11/75, Loss: 0.85\n",
      "Epoch 12/75, Loss: 0.86\n",
      "Epoch 13/75, Loss: 0.83\n",
      "Epoch 14/75, Loss: 0.90\n",
      "Epoch 15/75, Loss: 0.85\n",
      "Epoch 16/75, Loss: 0.96\n",
      "Epoch 17/75, Loss: 0.84\n",
      "Epoch 18/75, Loss: 0.87\n",
      "Epoch 19/75, Loss: 0.96\n",
      "Epoch 20/75, Loss: 0.90\n",
      "Epoch 21/75, Loss: 0.88\n",
      "Epoch 22/75, Loss: 0.81\n",
      "Epoch 23/75, Loss: 0.85\n",
      "Epoch 24/75, Loss: 0.81\n",
      "Epoch 25/75, Loss: 0.86\n",
      "Epoch 26/75, Loss: 0.92\n",
      "Epoch 27/75, Loss: 0.87\n",
      "Epoch 28/75, Loss: 0.86\n",
      "Epoch 29/75, Loss: 0.83\n",
      "Epoch 30/75, Loss: 0.87\n",
      "Epoch 31/75, Loss: 0.85\n",
      "Epoch 32/75, Loss: 0.87\n",
      "Epoch 33/75, Loss: 0.81\n",
      "Epoch 34/75, Loss: 0.90\n",
      "Epoch 35/75, Loss: 0.83\n",
      "Epoch 36/75, Loss: 0.85\n",
      "Epoch 37/75, Loss: 0.83\n",
      "Epoch 38/75, Loss: 0.84\n",
      "Epoch 39/75, Loss: 0.83\n",
      "Epoch 40/75, Loss: 0.84\n",
      "Epoch 41/75, Loss: 0.88\n",
      "Epoch 42/75, Loss: 0.82\n",
      "Epoch 43/75, Loss: 0.81\n",
      "Epoch 44/75, Loss: 0.81\n",
      "Epoch 45/75, Loss: 0.86\n",
      "Epoch 46/75, Loss: 0.85\n",
      "Epoch 47/75, Loss: 0.87\n",
      "Epoch 48/75, Loss: 0.84\n",
      "Epoch 49/75, Loss: 0.85\n",
      "Epoch 50/75, Loss: 0.86\n",
      "Epoch 51/75, Loss: 0.85\n",
      "Epoch 52/75, Loss: 0.84\n",
      "Epoch 53/75, Loss: 0.80\n",
      "Epoch 54/75, Loss: 0.80\n",
      "Epoch 55/75, Loss: 0.89\n",
      "Epoch 56/75, Loss: 0.86\n",
      "Epoch 57/75, Loss: 0.85\n",
      "Epoch 58/75, Loss: 0.82\n",
      "Epoch 59/75, Loss: 0.84\n",
      "Epoch 60/75, Loss: 0.81\n",
      "Epoch 61/75, Loss: 0.78\n",
      "Epoch 62/75, Loss: 0.79\n",
      "Epoch 63/75, Loss: 0.78\n",
      "Epoch 64/75, Loss: 0.79\n",
      "Epoch 65/75, Loss: 0.88\n",
      "Epoch 66/75, Loss: 0.90\n",
      "Epoch 67/75, Loss: 0.95\n",
      "Epoch 68/75, Loss: 0.78\n",
      "Epoch 69/75, Loss: 0.75\n",
      "Epoch 70/75, Loss: 0.77\n",
      "Epoch 71/75, Loss: 0.95\n",
      "Epoch 72/75, Loss: 1.02\n",
      "Epoch 73/75, Loss: 0.84\n",
      "Epoch 74/75, Loss: 0.83\n",
      "Epoch 75/75, Loss: 0.86\n"
     ]
    }
   ],
   "source": [
    "# Definir o tipo de dispositivo\n",
    "device = torch.device(\"cpu\")\n",
    "model.to(device)\n",
    "\n",
    "# Definir o número de épocas\n",
    "num_epochs: int = 75\n",
    "\n",
    "Xepoch = []\n",
    "Yloss = []\n",
    "Yloss_val = []\n",
    "\n",
    "# Etapas de treinamento e validação por época\n",
    "for epoch in range(num_epochs):\n",
    "    running_loss = 0\n",
    "    running_loss_val = 0\n",
    "    # Treinamento\n",
    "    for features, popularity in train_loader:\n",
    "        features = features.to(device)\n",
    "        popularity = (popularity.to(device)).long()\n",
    "        \n",
    "        optimizer.zero_grad()\n",
    "        \n",
    "        outputs = model(features)\n",
    "        loss = criterion(outputs, popularity)\n",
    "        loss.backward()\n",
    "        optimizer.step()\n",
    "    \n",
    "        running_loss = running_loss + loss.item()\n",
    "        \n",
    "    # Validação\n",
    "    for features, popularity in val_loader:\n",
    "        features = features.to(device)\n",
    "        popularity = (popularity.to(device)).long()\n",
    "        \n",
    "        outputs = model(features)\n",
    "        loss = criterion(outputs, popularity)\n",
    "        loss.backward()\n",
    "        optimizer.step()\n",
    "        \n",
    "        running_loss_val = running_loss_val + loss.item()\n",
    "        \n",
    "    Xepoch.append(epoch)\n",
    "    Yloss.append(running_loss/len(train_loader))\n",
    "    Yloss_val.append(running_loss_val/len(val_loader))\n",
    "    \n",
    "    # Exibir a perda média em função do número de épocas\n",
    "    print(f\"Epoch {epoch+1}/{num_epochs}, Loss: {running_loss/len(train_loader):.2f}\")\n",
    "    \n",
    "    # Salvar o modelo treinado e validado\n",
    "    torch.save(model, 'modelNN.pt')"
   ]
  },
  {
   "cell_type": "markdown",
   "metadata": {
    "id": "dDgSRIVz21-p"
   },
   "source": [
    "15. Avalie o desempenho do modelo nos conjuntos de validação e teste, calculando a acurácia, precisão, recall e exibindo o relatório de classificação."
   ]
  },
  {
   "cell_type": "code",
   "execution_count": 33,
   "metadata": {},
   "outputs": [],
   "source": [
    "def evaluation(data_loader: DataLoader, model: NeuralNet) -> tuple: \n",
    "    predicted_labels: list = []\n",
    "    true_labels: list = []\n",
    "    \n",
    "    with torch.no_grad():\n",
    "        for features, popularity in data_loader:\n",
    "            features = features.to(device)\n",
    "            popularity = popularity.to(device)\n",
    "\n",
    "            outputs = model(features)\n",
    "            \n",
    "            _, predicted = torch.max(outputs.data, 1)\n",
    "            \n",
    "            predicted_labels.extend(predicted.cpu().numpy())\n",
    "            \n",
    "            true_labels.extend(popularity.cpu().numpy())\n",
    "\n",
    "    return (predicted_labels, true_labels)"
   ]
  },
  {
   "cell_type": "code",
   "execution_count": 34,
   "metadata": {},
   "outputs": [],
   "source": [
    "def print_performance_measures(y_true: list, y_pred: list) -> None:\n",
    "    # Calcular a acurácia considerando o conjunto de dados de teste\n",
    "    accuracy = 100 * accuracy_score(y_true, y_pred)\n",
    "    print(f\"Acurácia considerando o conjunto de teste: {accuracy:.2f}%\")\n",
    "\n",
    "    # Calcular a Precisão\n",
    "    precision = 100*precision_score(y_true, y_pred, average='weighted')\n",
    "    print(f\"Precisão: {precision:.2f}%\")\n",
    "\n",
    "    # Calcular o Recall\n",
    "    recall = 100*recall_score(y_true, y_pred, average='weighted')\n",
    "    print(f\"Recall: {recall:.2f}%\")\n",
    "\n",
    "    # Gerar o relatório de classificação\n",
    "    class_report = classification_report(y_true, y_pred)\n",
    "    print(\"\\nRelatório de Classificação:\")\n",
    "    print(class_report)"
   ]
  },
  {
   "cell_type": "code",
   "execution_count": 35,
   "metadata": {
    "colab": {
     "base_uri": "https://localhost:8080/"
    },
    "id": "DASMbO9o24Bq",
    "outputId": "74bb9076-ce49-4470-dc44-1b2028aa2d3f",
    "scrolled": true
   },
   "outputs": [
    {
     "name": "stdout",
     "output_type": "stream",
     "text": [
      "Acurácia considerando o conjunto de validação: 77.73%\n",
      "Acurácia considerando o conjunto de teste: 59.41%\n",
      "Precisão: 63.06%\n",
      "Recall: 59.41%\n",
      "\n",
      "Relatório de Classificação:\n",
      "              precision    recall  f1-score   support\n",
      "\n",
      "         0.0       0.06      0.08      0.07        24\n",
      "         1.0       0.62      0.91      0.74       282\n",
      "         2.0       0.72      0.15      0.25       172\n",
      "\n",
      "    accuracy                           0.59       478\n",
      "   macro avg       0.47      0.38      0.35       478\n",
      "weighted avg       0.63      0.59      0.53       478\n",
      "\n"
     ]
    }
   ],
   "source": [
    "# Análise do desempenho considerando o conjunto de validação\n",
    "model.eval()\n",
    "(predicted_labels, true_labels) = evaluation(data_loader= val_loader, model= model)\n",
    "\n",
    "# Calcular a acurácia considerando o conjunto de dados de validação\n",
    "accuracy = 100 * accuracy_score(true_labels, predicted_labels)\n",
    "print(f\"Acurácia considerando o conjunto de validação: {accuracy:.2f}%\")\n",
    "\n",
    "# Análise do desempenho considerando o conjunto de teste\n",
    "model.eval()\n",
    "(predicted_labels, true_labels) = evaluation(data_loader= test_loader, model= model)\n",
    "\n",
    "print_performance_measures(true_labels, predicted_labels)"
   ]
  },
  {
   "cell_type": "markdown",
   "metadata": {
    "id": "1a5DWMA33WJD"
   },
   "source": [
    "16. Discuta as descobertas e faça uma reflexão sobre a aplicação do PyTorch em problemas de classificação de dados do mundo real."
   ]
  },
  {
   "cell_type": "markdown",
   "metadata": {
    "id": "VnrXaYos3c4w"
   },
   "source": [
    "Em primeiro lugar, convém apresentar as curvas de treinamento e validação para justificar que o modelo está se comportando com várias flutuações tanto para os dados de treinamento quando para os dados de validação. Além disso, com base na acurácia de treinamento e testes, o modelo está sofrendo de overfitting, e está com baixa precisão e recall. Logo, o modelo precisa ser melhorado.\n",
    "\n",
    "Entretanto, tentou-se diversas arquiteturas diferentes para a Rede Neural deste trabalho e, infelizmente, a melhor configuração encontrada foi a apresentada anteriormente."
   ]
  },
  {
   "cell_type": "code",
   "execution_count": 36,
   "metadata": {},
   "outputs": [
    {
     "data": {
      "image/png": "[encoded data removed]",
      "text/plain": [
       "<Figure size 640x480 with 1 Axes>"
      ]
     },
     "metadata": {},
     "output_type": "display_data"
    }
   ],
   "source": [
    "# Visualizar as curvas de perda no Treinamento e na Validação\n",
    "plt.plot(Xepoch,Yloss)\n",
    "plt.plot(Xepoch,Yloss_val)\n",
    "plt.grid()\n",
    "plt.title(\"Perdas no Treinamento e na Validação\")\n",
    "plt.legend([\"Treinamento\",\"Validação\"])\n",
    "plt.xlabel(\"Épocas\")\n",
    "plt.ylabel(\"Perda\")\n",
    "plt.show()"
   ]
  },
  {
   "cell_type": "markdown",
   "metadata": {},
   "source": [
    "Por outro lado, foi encontrada uma maneira de combater o overfitting, isto é, manter a feature \"year\" na variável independente (X). Observe os resultados a seguir!"
   ]
  },
  {
   "cell_type": "code",
   "execution_count": 19,
   "metadata": {},
   "outputs": [],
   "source": [
    "def evaluation(data_loader: DataLoader, model: NeuralNet) -> tuple: \n",
    "    predicted_labels: list = []\n",
    "    true_labels: list = []\n",
    "    \n",
    "    with torch.no_grad():\n",
    "        for features, popularity in data_loader:\n",
    "            features = features.to(device)\n",
    "            popularity = popularity.to(device)\n",
    "\n",
    "            outputs = model(features)\n",
    "            \n",
    "            _, predicted = torch.max(outputs.data, 1)\n",
    "            \n",
    "            predicted_labels.extend(predicted.cpu().numpy())\n",
    "            \n",
    "            true_labels.extend(popularity.cpu().numpy())\n",
    "\n",
    "    return (predicted_labels, true_labels)"
   ]
  },
  {
   "cell_type": "code",
   "execution_count": 20,
   "metadata": {},
   "outputs": [],
   "source": [
    "def print_performance_measures(y_true: list, y_pred: list) -> None:\n",
    "    # Calcular a acurácia considerando o conjunto de dados de teste\n",
    "    accuracy = 100 * accuracy_score(y_true, y_pred)\n",
    "    print(f\"Acurácia considerando o conjunto de teste: {accuracy:.2f}%\")\n",
    "\n",
    "    # Calcular a Precisão\n",
    "    precision = 100*precision_score(y_true, y_pred, average='weighted')\n",
    "    print(f\"Precisão: {precision:.2f}%\")\n",
    "\n",
    "    # Calcular o Recall\n",
    "    recall = 100*recall_score(y_true, y_pred, average='weighted')\n",
    "    print(f\"Recall: {recall:.2f}%\")\n",
    "\n",
    "    # Gerar o relatório de classificação\n",
    "    class_report = classification_report(y_true, y_pred)\n",
    "    print(\"\\nRelatório de Classificação:\")\n",
    "    print(class_report)"
   ]
  },
  {
   "cell_type": "code",
   "execution_count": 21,
   "metadata": {},
   "outputs": [
    {
     "name": "stdout",
     "output_type": "stream",
     "text": [
      "Acurácia considerando o conjunto de validação: 56.30%\n",
      "Acurácia considerando o conjunto de teste: 58.37%\n",
      "Precisão: 34.07%\n",
      "Recall: 58.37%\n",
      "\n",
      "Relatório de Classificação:\n",
      "              precision    recall  f1-score   support\n",
      "\n",
      "         0.0       0.00      0.00      0.00        26\n",
      "         1.0       0.58      1.00      0.74       279\n",
      "         2.0       0.00      0.00      0.00       173\n",
      "\n",
      "    accuracy                           0.58       478\n",
      "   macro avg       0.19      0.33      0.25       478\n",
      "weighted avg       0.34      0.58      0.43       478\n",
      "\n"
     ]
    }
   ],
   "source": [
    "# Análise do desempenho considerando o conjunto de validação\n",
    "model.eval()\n",
    "(predicted_labels, true_labels) = evaluation(data_loader= val_loader, model= model)\n",
    "\n",
    "# Calcular a acurácia considerando o conjunto de dados de validação\n",
    "accuracy = 100 * accuracy_score(true_labels, predicted_labels)\n",
    "print(f\"Acurácia considerando o conjunto de validação: {accuracy:.2f}%\")\n",
    "\n",
    "# Análise do desempenho considerando o conjunto de teste\n",
    "model.eval()\n",
    "(predicted_labels, true_labels) = evaluation(data_loader= test_loader, model= model)\n",
    "\n",
    "print_performance_measures(true_labels, predicted_labels)"
   ]
  },
  {
   "cell_type": "code",
   "execution_count": 22,
   "metadata": {},
   "outputs": [
    {
     "data": {
      "image/png": "[encoded data removed]",
      "text/plain": [
       "<Figure size 640x480 with 1 Axes>"
      ]
     },
     "metadata": {},
     "output_type": "display_data"
    }
   ],
   "source": [
    "# Visualizar as curvas de perda no Treinamento e na Validação\n",
    "plt.plot(Xepoch,Yloss)\n",
    "plt.plot(Xepoch,Yloss_val)\n",
    "plt.grid()\n",
    "plt.title(\"Perdas no Treinamento e na Validação\")\n",
    "plt.legend([\"Treinamento\",\"Validação\"])\n",
    "plt.xlabel(\"Épocas\")\n",
    "plt.ylabel(\"Perda\")\n",
    "plt.show()"
   ]
  },
  {
   "cell_type": "markdown",
   "metadata": {},
   "source": [
    "Diante disso, é possível perceber que o problema do overfitting foi praticamente resolvido. Porém, o modelo passou a ter baixa precisão."
   ]
  },
  {
   "cell_type": "markdown",
   "metadata": {},
   "source": [
    "O PyTorch é uma poderosa biblioteca de aprendizado de máquina e deep learning, amplamente utilizada em problemas de classificação e outras tarefas. No entanto, o desempenho do modelo não está diretamente relacionado à biblioteca em si, mas sim à arquitetura do modelo, qualidade dos dados, hiperparâmetros escolhidos, entre outros fatores. Portanto, caso as funções de perdas e otimização sejam alteradas, pode ser que o desempenho do modelo melhore.\n",
    "Nesse sentido, cabe o uso de técnicas de otimização de hiperparâmetros, porém não faz parte do escopo deste trabalho."
   ]
  }
 ],
 "metadata": {
  "colab": {
   "provenance": []
  },
  "kernelspec": {
   "display_name": "Python 3 (ipykernel)",
   "language": "python",
   "name": "python3"
  },
  "language_info": {
   "codemirror_mode": {
    "name": "ipython",
    "version": 3
   },
   "file_extension": ".py",
   "mimetype": "text/x-python",
   "name": "python",
   "nbconvert_exporter": "python",
   "pygments_lexer": "ipython3",
   "version": "3.9.16"
  }
 },
 "nbformat": 4,
 "nbformat_minor": 1
}
